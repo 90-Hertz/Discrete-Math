{
 "cells": [
  {
   "cell_type": "code",
   "execution_count": 3,
   "metadata": {},
   "outputs": [
    {
     "name": "stdout",
     "output_type": "stream",
     "text": [
      "1 1 1\n",
      "2 1 2\n",
      "3 1 3\n",
      "4 2 1\n",
      "5 2 2\n",
      "6 2 3\n",
      "7 3 1\n",
      "8 3 2\n",
      "9 3 3\n",
      "10 4 1\n",
      "11 4 2\n",
      "12 4 3\n"
     ]
    }
   ],
   "source": [
    "m ,n = 4, 3\n",
    "counter = 0\n",
    "for i in range(1, m+1):\n",
    "    for j in range(1, n+1):\n",
    "        counter += 1\n",
    "        print (counter , i, j)"
   ]
  }
 ],
 "metadata": {
  "kernelspec": {
   "display_name": "Python 3",
   "language": "python",
   "name": "python3"
  },
  "language_info": {
   "codemirror_mode": {
    "name": "ipython",
    "version": 3
   },
   "file_extension": ".py",
   "mimetype": "text/x-python",
   "name": "python",
   "nbconvert_exporter": "python",
   "pygments_lexer": "ipython3",
   "version": "3.11.4"
  },
  "orig_nbformat": 4
 },
 "nbformat": 4,
 "nbformat_minor": 2
}
