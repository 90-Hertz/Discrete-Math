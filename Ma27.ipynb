{
 "cells": [
  {
   "cell_type": "code",
   "execution_count": 5,
   "metadata": {},
   "outputs": [],
   "source": [
    "def walks (a, b, x, y):\n",
    "    if a == x:\n",
    "        return ['U' * (y-b)]\n",
    "    if b == y:\n",
    "        return ['R' * (x-a)]\n",
    "    W = []\n",
    "    for w in walks (a+1, b, x, y): \n",
    "        W.append('R' + w)\n",
    "    for w in walks (a, b+1, x, y): \n",
    "        W.append('U' + w)\n",
    "    return W    "
   ]
  },
  {
   "cell_type": "code",
   "execution_count": 8,
   "metadata": {},
   "outputs": [
    {
     "data": {
      "text/plain": [
       "['RRRUUU',\n",
       " 'RRURUU',\n",
       " 'RRUURU',\n",
       " 'RRUUUR',\n",
       " 'RURRUU',\n",
       " 'RURURU',\n",
       " 'RURUUR',\n",
       " 'RUURRU',\n",
       " 'RUURUR',\n",
       " 'RUUURR',\n",
       " 'URRRUU',\n",
       " 'URRURU',\n",
       " 'URRUUR',\n",
       " 'URURRU',\n",
       " 'URURUR',\n",
       " 'URUURR',\n",
       " 'UURRRU',\n",
       " 'UURRUR',\n",
       " 'UURURR',\n",
       " 'UUURRR']"
      ]
     },
     "execution_count": 8,
     "metadata": {},
     "output_type": "execute_result"
    }
   ],
   "source": [
    "walks(0, 0, 3, 3)"
   ]
  }
 ],
 "metadata": {
  "kernelspec": {
   "display_name": "Python 3",
   "language": "python",
   "name": "python3"
  },
  "language_info": {
   "codemirror_mode": {
    "name": "ipython",
    "version": 3
   },
   "file_extension": ".py",
   "mimetype": "text/x-python",
   "name": "python",
   "nbconvert_exporter": "python",
   "pygments_lexer": "ipython3",
   "version": "3.11.4"
  }
 },
 "nbformat": 4,
 "nbformat_minor": 2
}
